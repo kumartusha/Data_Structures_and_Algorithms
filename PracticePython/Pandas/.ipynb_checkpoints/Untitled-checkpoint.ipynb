{
 "cells": [
  {
   "cell_type": "code",
   "execution_count": 5,
   "id": "12c4402e-48d8-4f3b-b5a3-d37539ff6c01",
   "metadata": {},
   "outputs": [],
   "source": [
    "# 🔥 20 Pandas Tasks\n",
    "# 1️⃣ Load a CSV file into a Pandas DataFrame.\n",
    "# 2️⃣ Display the first 10 rows of a DataFrame using .head(10).\n",
    "# 3️⃣ Display the column names of a DataFrame.\n",
    "# 4️⃣ Check for missing values in the DataFrame.\n",
    "# 5️⃣ Fill missing values with the column mean.\n",
    "# 6️⃣ Drop rows containing missing values.\n",
    "# 7️⃣ Convert a column's data type (e.g., object → int).   Use the .to_numeric()\n",
    "# 8️⃣ Rename a column in the DataFrame.\n",
    "# 9️⃣ Sort a dataframe by multiple columns.\n",
    "# 🔟 Filter rows based on a condition (e.g., df[df[\"age\"] > 30]).\n",
    "# 1️⃣1️⃣ Select only specific columns from a DataFrame.\n",
    "# 1️⃣2️⃣ Group data by a categorical column and calculate the mean.\n",
    "# 1️⃣3️⃣ Create a new column using values from existing columns.\n",
    "# 1️⃣4️⃣ Drop duplicate rows from a DataFrame.\n",
    "# 1️⃣5️⃣ Apply a custom function to a column using .apply().\n",
    "# 1️⃣6️⃣ Merge two DataFrames on a common column.\n",
    "# 1️⃣7️⃣ Pivot a DataFrame using .pivot_table().\n",
    "# 1️⃣8️⃣ Convert a categorical column to dummy variables using pd.get_dummies().\n",
    "# 1️⃣9️⃣ Save a DataFrame to a CSV file.\n",
    "# 2️⃣0️⃣ Perform time series analysis using pd.to_datetime()."
   ]
  },
  {
   "cell_type": "code",
   "execution_count": 147,
   "id": "ff5ed40b-8ac7-4090-90b6-a257986fd2dd",
   "metadata": {},
   "outputs": [],
   "source": [
    "import numpy as np\n",
    "import pandas as pd\n",
    "\n",
    "dataset = pd.read_csv(\"diabetes.csv\")\n",
    "# dataset.head(10)\n",
    "# dataset.columns\n",
    "# dataset.isnull().sum()\n",
    "\n",
    "# dataset.fillna({\"Glucose\" : dataset[\"Glucose\"].mean()}, inplace=True)\n",
    "# dataset.isnull().sum()\n",
    "# dataset.shape\n",
    "# dataset.isnull().sum()\n",
    "# dataset.head()\n",
    "# dataset.isnull().sum()\n",
    "# dataset.dropna(axis=1)\n",
    "# dataset.isnull().sum()\n",
    "# dataset.head(10)\n",
    "# dataset.dropna(axis=0)\n",
    "# dataset.info()\n",
    "# dataset[\"SkinThickness\"] = dataset[\"SkinThickness\"].astype(float)\n",
    "# dataset.info()\n",
    "#  we want to change the column name of Glucose.\n",
    "\n",
    "# dataset.rename({\"Glucose\": \"Glu\"}, inplace=True)\n",
    "# dataset.replace({\"Glucose\" : \"Glu\"}, inplace=True)\n",
    "# dataset.rename(columns={\"Glucose\": \"Glu\"}, inplace=True)\n",
    "# dataset.info()\n",
    "# dataset.head()\n",
    "# dataset.sort_values(by=[\"Glucose\", \"Pregnancies\"], ascending=False)\n",
    "# dataset[\"BloodPressure\"] > 110\n",
    "\n",
    "# dataset.select_dtypes(include=\"int\")\n",
    "# dataset[[\"Pregnancies\", \"Glucose\", \"Insulin\"]]\n",
    "# dataset.groupby(by=[\"name\"]).agg({\"Glucose\": \"mean\", \"Pregnancies\": [\"mean\", \"sum\" ,\"median\"]})\n",
    "\n",
    "# dataset.head()\n",
    "# dataset[\"Age_distribution\"] = dataset[\"Age\"].apply(lambda val:\"Low\" if (val > 18 and val < 25)\n",
    "#                                                    else \"Medium\" if (val > 25 and val < 35)\n",
    "#                                                 else \"High\")\n",
    "# dataset.head(10)\n"
   ]
  },
  {
   "cell_type": "code",
   "execution_count": 4,
   "id": "6977113f-fcab-4fc7-8f59-2dbd8cfb9659",
   "metadata": {},
   "outputs": [],
   "source": [
    "# 🔥 NumPy Tasks\n",
    "# 1️⃣ Create a 1D, 2D, and 3D array using np.array().\n",
    "# 2️⃣ Generate an array of zeros, ones, and random numbers.\n",
    "# 3️⃣ Reshape an array into a different shape.\n",
    "# 4️⃣ Find the mean, median, and standard deviation of an array.\n",
    "# 5️⃣ Perform element-wise addition, subtraction, multiplication, and division.\n",
    "\n",
    "# 🔥 Matplotlib Tasks\n",
    "# 1️⃣ Create a simple line plot.\n",
    "# 2️⃣ Add labels, a title, and a legend to a plot.\n",
    "# 3️⃣ Create a scatter plot with customized markers.\n",
    "# 4️⃣ Plot a histogram of a dataset.\n",
    "# 5️⃣ Customize figure size and style.\n",
    "\n",
    "# 🔥 Seaborn Tasks\n",
    "# 1️⃣ Create a heatmap from a correlation matrix.\n",
    "# 2️⃣ Make a box plot to visualize outliers.\n",
    "# 3️⃣ Create a pair plot of a dataset.\n",
    "# 4️⃣ Use a bar plot to compare categorical data.\n",
    "# 5️⃣ Customize a seaborn color palette."
   ]
  },
  {
   "cell_type": "code",
   "execution_count": 186,
   "id": "f531b9fb-aeb4-4dfc-9c78-ce7d268dd5b9",
   "metadata": {},
   "outputs": [
    {
     "name": "stdout",
     "output_type": "stream",
     "text": [
      "<class 'list'>\n",
      "[[1, 2, 3], [4, 5, 6]]\n"
     ]
    }
   ],
   "source": [
    "# array1d = np.array([[[1,2,3,4,5], [1,2,3,4,5]], [[1,2,3,4,5], [1,2,3,4,5]], [[1,2,3,4,5], [1,2,3,4,5]]])\n",
    "\n",
    "\n",
    "# print(array1d.ndim)\n",
    "# print(array1d)\n",
    "\n",
    "# array1 = np.ones((3,4), dtype = \"int\")\n",
    "\n",
    "# # print(type(array1))\n",
    "# print(array1)\n",
    "# print(array1.ndim)\n",
    "\n",
    "# random_num = np.random.randint(0,10, size= (2,3))\n",
    "# random_num\n",
    "\n",
    "# array1 = [1,2,3,4,5,6,7,8,9]\n",
    "# array2 = np.reshape(3,3)\n",
    "# array2\n",
    "\n",
    "# array1 = np.array([1,2,3,4,5,6,7,8,9])\n",
    "# array2 = np.reshape(1,-1)\n",
    "# array2\n",
    "\n",
    "# array1 = np.array([1,2,3,4,5,6,7,8,9])\n",
    "# array2 = array1.reshape(3,3)\n",
    "# array2\n",
    "\n",
    "list1 = [[1,2,3], [4,5,6]]\n",
    "\n",
    "flatten_list = list1.fla\n",
    "print(type(list1))\n",
    "print(list1)"
   ]
  },
  {
   "cell_type": "code",
   "execution_count": 140,
   "id": "7d432eb8-0a32-4a93-a0f6-55fb19dd3a05",
   "metadata": {},
   "outputs": [],
   "source": [
    "import pandas as pd\n",
    "import numpy as np\n",
    "\n",
    "\n",
    "# # Creating a sample DataFrame\n",
    "# df = pd.DataFrame({\n",
    "#     'Name': ['Raj', 'Akhil', 'Sonum', 'Tilak', 'Divya', 'Megha'],\n",
    "#     'Age': [19, 22, 21, 20, 17, 23],\n",
    "#     'Rank': [1, 3, 2, 1, 2, 3]\n",
    "# })\n",
    "\n",
    "# df2 = pd.DataFrame({\n",
    "#     'Name': ['Raj', 'Akhil', 'Sonum', 'Tilak', 'Divya', 'Megha'],\n",
    "#     'Age': [19, 22, 21, 20, 17, 23],\n",
    "#     'Rank': [1, 3, 2, 1, 2, 3]\n",
    "# })\n",
    "\n",
    "# pd.concat([df, df2], ignore_index = True)\n",
    "\n",
    "# # df.sort_values(by=[\"Rank\", \"Age\"],ascending=[True, False])\n",
    "# # df.sort_values(by=\"Rank\", ascending=True)\n",
    "# df.sort_values(by=[\"Rank\", \"Age\"], ascending=[True, False])"
   ]
  },
  {
   "cell_type": "code",
   "execution_count": 146,
   "id": "8bd94383-621b-40f7-9c33-7d8c1177523c",
   "metadata": {},
   "outputs": [
    {
     "name": "stdout",
     "output_type": "stream",
     "text": [
      "Department\n",
      "Finance    77500.0\n",
      "HR         52500.0\n",
      "IT         65000.0\n",
      "Name: Salary, dtype: float64\n"
     ]
    }
   ],
   "source": [
    "import pandas as pd\n",
    "\n",
    "data = {\n",
    "    \"Department\": [\"IT\", \"HR\", \"IT\", \"Finance\", \"HR\", \"Finance\"],\n",
    "    \"Employee\": [\"A\", \"B\", \"C\", \"D\", \"E\", \"F\"],\n",
    "    \"Salary\": [60000, 50000, 70000, 80000, 55000, 75000]\n",
    "}\n",
    "\n",
    "df = pd.DataFrame(data)\n",
    "df\n",
    "# # Group by Department and get average salary\n",
    "grouped = df.groupby(\"Department\")[\"Salary\"].mean()\n",
    "print(grouped)\n",
    "\n",
    "dataset.to_csv(\"demo.csv\")\n"
   ]
  },
  {
   "cell_type": "code",
   "execution_count": null,
   "id": "b75eca21-0989-48ed-9430-cce0b7cee8e8",
   "metadata": {},
   "outputs": [],
   "source": []
  }
 ],
 "metadata": {
  "kernelspec": {
   "display_name": "Python 3 (ipykernel)",
   "language": "python",
   "name": "python3"
  },
  "language_info": {
   "codemirror_mode": {
    "name": "ipython",
    "version": 3
   },
   "file_extension": ".py",
   "mimetype": "text/x-python",
   "name": "python",
   "nbconvert_exporter": "python",
   "pygments_lexer": "ipython3",
   "version": "3.12.6"
  }
 },
 "nbformat": 4,
 "nbformat_minor": 5
}
